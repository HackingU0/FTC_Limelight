{
 "cells": [
  {
   "cell_type": "code",
   "id": "initial_id",
   "metadata": {
    "collapsed": true,
    "ExecuteTime": {
     "end_time": "2025-03-23T02:46:22.106318Z",
     "start_time": "2025-03-23T02:46:16.102581Z"
    }
   },
   "source": [
    "#install requirements\n",
    "!pip install tensorflow\n",
    "!pip install numpy\n",
    "!pip install pandas\n",
    "!pip install opencv-python"
   ],
   "outputs": [
    {
     "name": "stdout",
     "output_type": "stream",
     "text": [
      "Requirement already satisfied: tensorflow in /opt/homebrew/anaconda3/envs/FTC_Limelight/lib/python3.12/site-packages (2.19.0)\r\n",
      "Requirement already satisfied: absl-py>=1.0.0 in /opt/homebrew/anaconda3/envs/FTC_Limelight/lib/python3.12/site-packages (from tensorflow) (2.1.0)\r\n",
      "Requirement already satisfied: astunparse>=1.6.0 in /opt/homebrew/anaconda3/envs/FTC_Limelight/lib/python3.12/site-packages (from tensorflow) (1.6.3)\r\n",
      "Requirement already satisfied: flatbuffers>=24.3.25 in /opt/homebrew/anaconda3/envs/FTC_Limelight/lib/python3.12/site-packages (from tensorflow) (24.3.25)\r\n",
      "Requirement already satisfied: gast!=0.5.0,!=0.5.1,!=0.5.2,>=0.2.1 in /opt/homebrew/anaconda3/envs/FTC_Limelight/lib/python3.12/site-packages (from tensorflow) (0.5.3)\r\n",
      "Requirement already satisfied: google-pasta>=0.1.1 in /opt/homebrew/anaconda3/envs/FTC_Limelight/lib/python3.12/site-packages (from tensorflow) (0.2.0)\r\n",
      "Requirement already satisfied: libclang>=13.0.0 in /opt/homebrew/anaconda3/envs/FTC_Limelight/lib/python3.12/site-packages (from tensorflow) (18.1.1)\r\n",
      "Requirement already satisfied: opt-einsum>=2.3.2 in /opt/homebrew/anaconda3/envs/FTC_Limelight/lib/python3.12/site-packages (from tensorflow) (3.3.0)\r\n",
      "Requirement already satisfied: packaging in /opt/homebrew/anaconda3/envs/FTC_Limelight/lib/python3.12/site-packages (from tensorflow) (24.2)\r\n",
      "Requirement already satisfied: protobuf!=4.21.0,!=4.21.1,!=4.21.2,!=4.21.3,!=4.21.4,!=4.21.5,<6.0.0dev,>=3.20.3 in /opt/homebrew/anaconda3/envs/FTC_Limelight/lib/python3.12/site-packages (from tensorflow) (4.25.3)\r\n",
      "Requirement already satisfied: requests<3,>=2.21.0 in /opt/homebrew/anaconda3/envs/FTC_Limelight/lib/python3.12/site-packages (from tensorflow) (2.32.3)\r\n",
      "Requirement already satisfied: setuptools in /opt/homebrew/anaconda3/envs/FTC_Limelight/lib/python3.12/site-packages (from tensorflow) (75.8.0)\r\n",
      "Requirement already satisfied: six>=1.12.0 in /opt/homebrew/anaconda3/envs/FTC_Limelight/lib/python3.12/site-packages (from tensorflow) (1.16.0)\r\n",
      "Requirement already satisfied: termcolor>=1.1.0 in /opt/homebrew/anaconda3/envs/FTC_Limelight/lib/python3.12/site-packages (from tensorflow) (2.1.0)\r\n",
      "Requirement already satisfied: typing-extensions>=3.6.6 in /opt/homebrew/anaconda3/envs/FTC_Limelight/lib/python3.12/site-packages (from tensorflow) (4.12.2)\r\n",
      "Requirement already satisfied: wrapt>=1.11.0 in /opt/homebrew/anaconda3/envs/FTC_Limelight/lib/python3.12/site-packages (from tensorflow) (1.17.0)\r\n",
      "Requirement already satisfied: grpcio<2.0,>=1.24.3 in /opt/homebrew/anaconda3/envs/FTC_Limelight/lib/python3.12/site-packages (from tensorflow) (1.62.2)\r\n",
      "Requirement already satisfied: tensorboard~=2.19.0 in /opt/homebrew/anaconda3/envs/FTC_Limelight/lib/python3.12/site-packages (from tensorflow) (2.19.0)\r\n",
      "Requirement already satisfied: keras>=3.5.0 in /opt/homebrew/anaconda3/envs/FTC_Limelight/lib/python3.12/site-packages (from tensorflow) (3.6.0)\r\n",
      "Requirement already satisfied: numpy<2.2.0,>=1.26.0 in /opt/homebrew/anaconda3/envs/FTC_Limelight/lib/python3.12/site-packages (from tensorflow) (1.26.4)\r\n",
      "Requirement already satisfied: h5py>=3.11.0 in /opt/homebrew/anaconda3/envs/FTC_Limelight/lib/python3.12/site-packages (from tensorflow) (3.12.1)\r\n",
      "Requirement already satisfied: ml-dtypes<1.0.0,>=0.5.1 in /opt/homebrew/anaconda3/envs/FTC_Limelight/lib/python3.12/site-packages (from tensorflow) (0.5.1)\r\n",
      "Requirement already satisfied: wheel<1.0,>=0.23.0 in /opt/homebrew/anaconda3/envs/FTC_Limelight/lib/python3.12/site-packages (from astunparse>=1.6.0->tensorflow) (0.45.1)\r\n",
      "Requirement already satisfied: rich in /opt/homebrew/anaconda3/envs/FTC_Limelight/lib/python3.12/site-packages (from keras>=3.5.0->tensorflow) (13.9.4)\r\n",
      "Requirement already satisfied: namex in /opt/homebrew/anaconda3/envs/FTC_Limelight/lib/python3.12/site-packages (from keras>=3.5.0->tensorflow) (0.0.7)\r\n",
      "Requirement already satisfied: optree in /opt/homebrew/anaconda3/envs/FTC_Limelight/lib/python3.12/site-packages (from keras>=3.5.0->tensorflow) (0.14.1)\r\n",
      "Requirement already satisfied: charset-normalizer<4,>=2 in /opt/homebrew/anaconda3/envs/FTC_Limelight/lib/python3.12/site-packages (from requests<3,>=2.21.0->tensorflow) (3.3.2)\r\n",
      "Requirement already satisfied: idna<4,>=2.5 in /opt/homebrew/anaconda3/envs/FTC_Limelight/lib/python3.12/site-packages (from requests<3,>=2.21.0->tensorflow) (3.7)\r\n",
      "Requirement already satisfied: urllib3<3,>=1.21.1 in /opt/homebrew/anaconda3/envs/FTC_Limelight/lib/python3.12/site-packages (from requests<3,>=2.21.0->tensorflow) (2.3.0)\r\n",
      "Requirement already satisfied: certifi>=2017.4.17 in /opt/homebrew/anaconda3/envs/FTC_Limelight/lib/python3.12/site-packages (from requests<3,>=2.21.0->tensorflow) (2025.1.31)\r\n",
      "Requirement already satisfied: markdown>=2.6.8 in /opt/homebrew/anaconda3/envs/FTC_Limelight/lib/python3.12/site-packages (from tensorboard~=2.19.0->tensorflow) (3.4.1)\r\n",
      "Requirement already satisfied: tensorboard-data-server<0.8.0,>=0.7.0 in /opt/homebrew/anaconda3/envs/FTC_Limelight/lib/python3.12/site-packages (from tensorboard~=2.19.0->tensorflow) (0.7.0)\r\n",
      "Requirement already satisfied: werkzeug>=1.0.1 in /opt/homebrew/anaconda3/envs/FTC_Limelight/lib/python3.12/site-packages (from tensorboard~=2.19.0->tensorflow) (3.1.3)\r\n",
      "Requirement already satisfied: MarkupSafe>=2.1.1 in /opt/homebrew/anaconda3/envs/FTC_Limelight/lib/python3.12/site-packages (from werkzeug>=1.0.1->tensorboard~=2.19.0->tensorflow) (3.0.2)\r\n",
      "Requirement already satisfied: markdown-it-py>=2.2.0 in /opt/homebrew/anaconda3/envs/FTC_Limelight/lib/python3.12/site-packages (from rich->keras>=3.5.0->tensorflow) (2.2.0)\r\n",
      "Requirement already satisfied: pygments<3.0.0,>=2.13.0 in /opt/homebrew/anaconda3/envs/FTC_Limelight/lib/python3.12/site-packages (from rich->keras>=3.5.0->tensorflow) (2.15.1)\r\n",
      "Requirement already satisfied: mdurl~=0.1 in /opt/homebrew/anaconda3/envs/FTC_Limelight/lib/python3.12/site-packages (from markdown-it-py>=2.2.0->rich->keras>=3.5.0->tensorflow) (0.1.0)\r\n",
      "Requirement already satisfied: numpy in /opt/homebrew/anaconda3/envs/FTC_Limelight/lib/python3.12/site-packages (1.26.4)\r\n",
      "Collecting pandas\r\n",
      "  Downloading pandas-2.2.3-cp312-cp312-macosx_11_0_arm64.whl.metadata (89 kB)\r\n",
      "Requirement already satisfied: numpy>=1.26.0 in /opt/homebrew/anaconda3/envs/FTC_Limelight/lib/python3.12/site-packages (from pandas) (1.26.4)\r\n",
      "Requirement already satisfied: python-dateutil>=2.8.2 in /opt/homebrew/anaconda3/envs/FTC_Limelight/lib/python3.12/site-packages (from pandas) (2.9.0.post0)\r\n",
      "Collecting pytz>=2020.1 (from pandas)\r\n",
      "  Downloading pytz-2025.1-py2.py3-none-any.whl.metadata (22 kB)\r\n",
      "Collecting tzdata>=2022.7 (from pandas)\r\n",
      "  Downloading tzdata-2025.1-py2.py3-none-any.whl.metadata (1.4 kB)\r\n",
      "Requirement already satisfied: six>=1.5 in /opt/homebrew/anaconda3/envs/FTC_Limelight/lib/python3.12/site-packages (from python-dateutil>=2.8.2->pandas) (1.16.0)\r\n",
      "Downloading pandas-2.2.3-cp312-cp312-macosx_11_0_arm64.whl (11.4 MB)\r\n",
      "\u001B[2K   \u001B[90m━━━━━━━━━━━━━━━━━━━━━━━━━━━━━━━━━━━━━━━━\u001B[0m \u001B[32m11.4/11.4 MB\u001B[0m \u001B[31m41.6 MB/s\u001B[0m eta \u001B[36m0:00:00\u001B[0m \u001B[36m0:00:01\u001B[0m\r\n",
      "\u001B[?25hDownloading pytz-2025.1-py2.py3-none-any.whl (507 kB)\r\n",
      "Downloading tzdata-2025.1-py2.py3-none-any.whl (346 kB)\r\n",
      "Installing collected packages: pytz, tzdata, pandas\r\n",
      "Successfully installed pandas-2.2.3 pytz-2025.1 tzdata-2025.1\r\n"
     ]
    }
   ],
   "execution_count": 2
  },
  {
   "metadata": {
    "ExecuteTime": {
     "end_time": "2025-03-23T02:55:11.461988Z",
     "start_time": "2025-03-23T02:55:11.459523Z"
    }
   },
   "cell_type": "code",
   "source": [
    "# Imports\n",
    "import tensorflow as tf\n",
    "import numpy as np\n",
    "import pandas as pd\n",
    "import cv2\n",
    "from pathlib import Path\n",
    "import os"
   ],
   "id": "cbd7aff1f9886419",
   "outputs": [],
   "execution_count": 19
  },
  {
   "metadata": {
    "ExecuteTime": {
     "end_time": "2025-03-23T03:00:12.250068Z",
     "start_time": "2025-03-23T03:00:09.058836Z"
    }
   },
   "cell_type": "code",
   "source": [
    "#Load Dataset from CSV\n",
    "\n",
    "\n",
    "annotations = pd.read_csv('./FTC Sample Detection.v2i.tensorflow/train/_annotations.csv')\n",
    "\n",
    "# CSV records\n",
    "total_rows = len(annotations)\n",
    "print(f\"CSV contains {total_rows} records\")\n",
    "\n",
    "base_dir = Path('./FTC Sample Detection.v2i.tensorflow/train')\n",
    "\n",
    "success_count = 0\n",
    "fail_count = 0\n",
    "\n",
    "for i, row in annotations.iterrows():\n",
    "    image_path = base_dir / row['filename']\n",
    "\n",
    "    # If files exist\n",
    "    if os.path.exists(image_path):\n",
    "        img = cv2.imread(str(image_path))\n",
    "        if img is not None:\n",
    "            success_count += 1\n",
    "            if success_count % 100 == 0:\n",
    "                print(f\"Successfully loaded {success_count}/{total_rows} images\")\n",
    "        else:\n",
    "            fail_count += 1\n",
    "    else:\n",
    "        fail_count += 1\n",
    "\n",
    "    # Progress\n",
    "    if (i+1) % 500 == 0:\n",
    "        print(f\"Processed {i+1}/{total_rows} records, Success: {success_count}, Failed: {fail_count}\")\n",
    "\n",
    "print(f\"\\nResult:\")\n",
    "print(f\"Total amount of records: {total_rows}\")\n",
    "print(f\"Successfully Loaded: {success_count}\")\n",
    "print(f\"Cannot Load: {fail_count}\")"
   ],
   "id": "c03418f9007793bf",
   "outputs": [
    {
     "name": "stdout",
     "output_type": "stream",
     "text": [
      "CSV contains 3378 records\n",
      "Successfully loaded 100/3378 images\n",
      "Successfully loaded 200/3378 images\n",
      "Successfully loaded 300/3378 images\n",
      "Successfully loaded 400/3378 images\n",
      "Successfully loaded 500/3378 images\n",
      "Processed 500/3378 records, Success: 500, Failed: 0\n",
      "Successfully loaded 600/3378 images\n",
      "Successfully loaded 700/3378 images\n",
      "Successfully loaded 800/3378 images\n",
      "Successfully loaded 900/3378 images\n",
      "Successfully loaded 1000/3378 images\n",
      "Processed 1000/3378 records, Success: 1000, Failed: 0\n",
      "Successfully loaded 1100/3378 images\n",
      "Successfully loaded 1200/3378 images\n",
      "Successfully loaded 1300/3378 images\n",
      "Successfully loaded 1400/3378 images\n",
      "Successfully loaded 1500/3378 images\n",
      "Processed 1500/3378 records, Success: 1500, Failed: 0\n",
      "Successfully loaded 1600/3378 images\n",
      "Successfully loaded 1700/3378 images\n",
      "Successfully loaded 1800/3378 images\n",
      "Successfully loaded 1900/3378 images\n",
      "Successfully loaded 2000/3378 images\n",
      "Processed 2000/3378 records, Success: 2000, Failed: 0\n",
      "Successfully loaded 2100/3378 images\n",
      "Successfully loaded 2200/3378 images\n",
      "Successfully loaded 2300/3378 images\n",
      "Successfully loaded 2400/3378 images\n",
      "Successfully loaded 2500/3378 images\n",
      "Processed 2500/3378 records, Success: 2500, Failed: 0\n",
      "Successfully loaded 2600/3378 images\n",
      "Successfully loaded 2700/3378 images\n",
      "Successfully loaded 2800/3378 images\n",
      "Successfully loaded 2900/3378 images\n",
      "Successfully loaded 3000/3378 images\n",
      "Processed 3000/3378 records, Success: 3000, Failed: 0\n",
      "Successfully loaded 3100/3378 images\n",
      "Successfully loaded 3200/3378 images\n",
      "Successfully loaded 3300/3378 images\n",
      "\n",
      "Result:\n",
      "Total amount of records: 3378\n",
      "Successfully Loaded: 3378\n",
      "Cannot Load: 0\n"
     ]
    }
   ],
   "execution_count": 24
  },
  {
   "metadata": {},
   "cell_type": "code",
   "outputs": [],
   "execution_count": null,
   "source": "# Process Dataset",
   "id": "5c06c7c41395ff6c"
  }
 ],
 "metadata": {
  "kernelspec": {
   "display_name": "Python 3",
   "language": "python",
   "name": "python3"
  },
  "language_info": {
   "codemirror_mode": {
    "name": "ipython",
    "version": 2
   },
   "file_extension": ".py",
   "mimetype": "text/x-python",
   "name": "python",
   "nbconvert_exporter": "python",
   "pygments_lexer": "ipython2",
   "version": "2.7.6"
  }
 },
 "nbformat": 4,
 "nbformat_minor": 5
}
